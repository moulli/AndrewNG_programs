{
 "cells": [
  {
   "cell_type": "code",
   "execution_count": 4,
   "metadata": {},
   "outputs": [],
   "source": [
    "import pygame\n",
    "import time\n",
    "import numpy as np"
   ]
  },
  {
   "cell_type": "code",
   "execution_count": 5,
   "metadata": {},
   "outputs": [],
   "source": [
    "# define a main function\n",
    "def main():\n",
    "     \n",
    "    # Initialize the pygame module:\n",
    "    pygame.init()\n",
    "    \n",
    "    # Load images:\n",
    "    flappy = pygame.image.load(\"flappy.png\")\n",
    "    background = pygame.image.load(\"background.png\")\n",
    "    \n",
    "    # Set the logo:\n",
    "    pygame.display.set_icon(flappy)\n",
    "    pygame.display.set_caption(\"Flappy Bird\")\n",
    "     \n",
    "    # Create a surface on screen with particular size:\n",
    "    xback = 300\n",
    "    yback = 480\n",
    "    screen = pygame.display.set_mode((xback, yback))\n",
    "    # Set background:\n",
    "    screen.blit(background, (0, 0))\n",
    "    # Set flappy:\n",
    "    xinit = int(xback/4)\n",
    "    yinit = int(yback/3)\n",
    "    screen.blit(flappy, (xinit, yinit))\n",
    "    \n",
    "    # Refresh screen:\n",
    "    pygame.display.flip()\n",
    "    \n",
    "    # Movement:\n",
    "    xlength = flappy.get_rect().size[0]\n",
    "    ylength = flappy.get_rect().size[1]\n",
    "    xpos = xinit\n",
    "    ypos = yinit\n",
    "    xvel = 0\n",
    "    yvel = 0\n",
    "    xacc = 0\n",
    "    yacc = 0.02     \n",
    "    # Main loop:\n",
    "    running = True\n",
    "    while running:\n",
    "        # Movement:\n",
    "        xvel += xacc\n",
    "        yvel += yacc\n",
    "        xpos += xvel\n",
    "        ypos += yvel\n",
    "        if xpos+xlength >= xback:\n",
    "            xpos = xback - xlength\n",
    "            xvel = -xvel\n",
    "        elif xpos <= 0:\n",
    "            xpos = 0\n",
    "            xvel = -xvel\n",
    "        elif ypos+ylength >= yback or ypos <= 0:\n",
    "            ypos = yinit\n",
    "            yvel = 0\n",
    "        screen.blit(background, (0, 0))\n",
    "        screen.blit(flappy, (xpos, ypos))\n",
    "        pygame.display.flip()\n",
    "        \n",
    "            \n",
    "        # Event handling, gets all event from the event queue:\n",
    "        for event in pygame.event.get():\n",
    "            # Space changes vertical velocity:\n",
    "            if event.type == pygame.KEYDOWN and event.key == pygame.K_SPACE:\n",
    "                yvprod = 2\n",
    "                yvsum = 2\n",
    "                yvelmin = -2.5\n",
    "                #yvel -= yvprod + yvprod * (np.exp(yvsum*ypos/yback - yvsum) - np.exp(-yvsum)) / (1 - np.exp(-yvsum))\n",
    "                yvel -= yvprod + yvprod * (np.exp(yvsum*ypos/yback - yvsum) - np.exp(yvsum*0.3 - yvsum))\n",
    "                if yvel < yvelmin:\n",
    "                    yvel = yvelmin\n",
    "            # Only do something if the event is of type QUIT:\n",
    "            if event.type == pygame.QUIT:\n",
    "                # Change the value to False, to exit the main loop:\n",
    "                running = False \n",
    "    # Add these following lines to quit!:\n",
    "    pygame.display.quit()\n",
    "    pygame.quit()\n",
    "     \n",
    "# Executed when called directly:\n",
    "if __name__==\"__main__\":\n",
    "    # call the main function\n",
    "    main()"
   ]
  },
  {
   "cell_type": "code",
   "execution_count": 1,
   "metadata": {
    "scrolled": true
   },
   "outputs": [
    {
     "name": "stdout",
     "output_type": "stream",
     "text": [
      "pygame 1.9.6\n",
      "Hello from the pygame community. https://www.pygame.org/contribute.html\n"
     ]
    }
   ],
   "source": [
    "# Same with Flappy class:\n",
    "import pygame\n",
    "import numpy as np\n",
    "from flappy_classes import Flappy, Pipe\n",
    "from collections import deque\n",
    "\n",
    "\n",
    "def main():\n",
    "     \n",
    "    # Initialize the pygame module:\n",
    "    pygame.init()\n",
    "    \n",
    "    # Set the logo:\n",
    "    flappy_pic = pygame.image.load(\"flappy.png\")\n",
    "    pygame.display.set_icon(flappy_pic)\n",
    "    pygame.display.set_caption(\"Flappy Bird\")\n",
    "     \n",
    "    # Create a surface on screen with particular size:\n",
    "    background = pygame.image.load(\"background.png\")\n",
    "    screen = pygame.display.set_mode(background.get_rect().size)\n",
    "    # Set background:\n",
    "    screen.blit(background, (0, 0))\n",
    "    \n",
    "    # Set flappy:\n",
    "    flappy = Flappy(background.get_rect().size, \"flappy.png\")\n",
    "    screen.blit(flappy.get_pic(), flappy.get_pos())\n",
    "    \n",
    "    # Set pipe:\n",
    "    pipes = deque(maxlen=3)\n",
    "    pipes.append(Pipe(background.get_rect().size, \"pipe.png\"))\n",
    "    screen.blit(pipes[0].get_pic()[0], pipes[0].get_pos()[0])\n",
    "    screen.blit(pipes[0].get_pic()[1], pipes[0].get_pos()[1])\n",
    "    \n",
    "    # Refresh screen:\n",
    "    pygame.display.flip()\n",
    "        \n",
    "    # Main loop:\n",
    "    running = True\n",
    "    \n",
    "    while running:\n",
    "        # Movement:\n",
    "        flappy.actualize()\n",
    "        screen.blit(background, (0, 0))\n",
    "        screen.blit(flappy.get_pic(), flappy.get_pos())\n",
    "        for pipe in pipes:\n",
    "            pipe.actualize()\n",
    "            screen.blit(pipe.get_pic()[0], pipe.get_pos()[0])\n",
    "            screen.blit(pipe.get_pic()[1], pipe.get_pos()[1])\n",
    "        pygame.display.flip()\n",
    "        \n",
    "        flappy.check_collision(pipes)\n",
    "        if flappy.is_dead():\n",
    "            flappy.new_flappy()\n",
    "            \n",
    "        if pipe.get_pos()[0][0] < int(background.get_rect()[0]/3):\n",
    "            pipes.append(Pipe(background.get_rect().size, \"pipe.png\"))\n",
    "            pipes[-1].new_pipe()\n",
    "        \n",
    "            \n",
    "        # Event handling, gets all event from the event queue:\n",
    "        for event in pygame.event.get():\n",
    "            # Key changes vertical velocity:\n",
    "            if event.type == pygame.KEYDOWN:\n",
    "                flappy.pressed_key()\n",
    "            # Only do something if the event is of type QUIT:\n",
    "            if event.type == pygame.QUIT:\n",
    "                # Change the value to False, to exit the main loop:\n",
    "                running = False \n",
    "    # Add these following lines to quit!:\n",
    "    pygame.display.quit()\n",
    "    pygame.quit()\n",
    "     \n",
    "# Executed when called directly:\n",
    "if __name__==\"__main__\":\n",
    "    # call the main function\n",
    "    main()"
   ]
  },
  {
   "cell_type": "code",
   "execution_count": 4,
   "metadata": {},
   "outputs": [
    {
     "data": {
      "text/plain": [
       "True"
      ]
     },
     "execution_count": 4,
     "metadata": {},
     "output_type": "execute_result"
    }
   ],
   "source": [
    "a = np.zeros((2, 2))\n",
    "b = np.ones((2, 2))\n",
    "b[0, 0] = 0\n",
    "np.sum(a == b) > 0"
   ]
  },
  {
   "cell_type": "code",
   "execution_count": 3,
   "metadata": {},
   "outputs": [
    {
     "ename": "TypeError",
     "evalue": "argument 1 must be pygame.Surface, not pygame.Rect",
     "output_type": "error",
     "traceback": [
      "\u001b[1;31m---------------------------------------------------------------------------\u001b[0m",
      "\u001b[1;31mTypeError\u001b[0m                                 Traceback (most recent call last)",
      "\u001b[1;32m<ipython-input-3-82e15693dbb2>\u001b[0m in \u001b[0;36m<module>\u001b[1;34m\u001b[0m\n\u001b[0;32m      5\u001b[0m \u001b[0mcollide\u001b[0m\u001b[1;33m.\u001b[0m\u001b[0mappend\u001b[0m\u001b[1;33m(\u001b[0m\u001b[0mpygame\u001b[0m\u001b[1;33m.\u001b[0m\u001b[0mRect\u001b[0m\u001b[1;33m(\u001b[0m\u001b[1;33m(\u001b[0m\u001b[1;36m100\u001b[0m\u001b[1;33m,\u001b[0m \u001b[1;36m130\u001b[0m\u001b[1;33m,\u001b[0m \u001b[1;36m45\u001b[0m\u001b[1;33m,\u001b[0m \u001b[1;36m50\u001b[0m\u001b[1;33m)\u001b[0m\u001b[1;33m)\u001b[0m\u001b[1;33m)\u001b[0m\u001b[1;33m\u001b[0m\u001b[1;33m\u001b[0m\u001b[0m\n\u001b[0;32m      6\u001b[0m \u001b[0mcollide\u001b[0m\u001b[1;33m.\u001b[0m\u001b[0mappend\u001b[0m\u001b[1;33m(\u001b[0m\u001b[0mpygame\u001b[0m\u001b[1;33m.\u001b[0m\u001b[0mRect\u001b[0m\u001b[1;33m(\u001b[0m\u001b[1;33m(\u001b[0m\u001b[1;36m10\u001b[0m\u001b[1;33m,\u001b[0m \u001b[1;36m30\u001b[0m\u001b[1;33m,\u001b[0m \u001b[1;36m60\u001b[0m\u001b[1;33m,\u001b[0m \u001b[1;36m90\u001b[0m\u001b[1;33m)\u001b[0m\u001b[1;33m)\u001b[0m\u001b[1;33m)\u001b[0m\u001b[1;33m\u001b[0m\u001b[1;33m\u001b[0m\u001b[0m\n\u001b[1;32m----> 7\u001b[1;33m \u001b[0mscreen\u001b[0m\u001b[1;33m.\u001b[0m\u001b[0mblit\u001b[0m\u001b[1;33m(\u001b[0m\u001b[0mflapps\u001b[0m\u001b[1;33m)\u001b[0m\u001b[1;33m\u001b[0m\u001b[1;33m\u001b[0m\u001b[0m\n\u001b[0m\u001b[0;32m      8\u001b[0m \u001b[1;32mfor\u001b[0m \u001b[0mcol\u001b[0m \u001b[1;32min\u001b[0m \u001b[0mcollide\u001b[0m\u001b[1;33m:\u001b[0m\u001b[1;33m\u001b[0m\u001b[1;33m\u001b[0m\u001b[0m\n\u001b[0;32m      9\u001b[0m     \u001b[0mscreen\u001b[0m\u001b[1;33m.\u001b[0m\u001b[0mblit\u001b[0m\u001b[1;33m(\u001b[0m\u001b[0mcol\u001b[0m\u001b[1;33m)\u001b[0m\u001b[1;33m\u001b[0m\u001b[1;33m\u001b[0m\u001b[0m\n",
      "\u001b[1;31mTypeError\u001b[0m: argument 1 must be pygame.Surface, not pygame.Rect"
     ]
    }
   ],
   "source": [
    "pygame.init()\n",
    "screen = pygame.display.set_mode((100, 150))\n",
    "flapps = pygame.Rect((20, 30, 40, 50))\n",
    "collide = list()\n",
    "collide.append(pygame.Rect((100, 130, 45, 50)))\n",
    "collide.append(pygame.Rect((10, 30, 60, 90)))\n",
    "screen.blit(flapps)\n",
    "for col in collide:\n",
    "    screen.blit(col)\n",
    "print(flapps.collidelist(collide))"
   ]
  },
  {
   "cell_type": "code",
   "execution_count": null,
   "metadata": {},
   "outputs": [],
   "source": []
  }
 ],
 "metadata": {
  "kernelspec": {
   "display_name": "Python 3",
   "language": "python",
   "name": "python3"
  },
  "language_info": {
   "codemirror_mode": {
    "name": "ipython",
    "version": 3
   },
   "file_extension": ".py",
   "mimetype": "text/x-python",
   "name": "python",
   "nbconvert_exporter": "python",
   "pygments_lexer": "ipython3",
   "version": "3.6.8"
  }
 },
 "nbformat": 4,
 "nbformat_minor": 2
}
