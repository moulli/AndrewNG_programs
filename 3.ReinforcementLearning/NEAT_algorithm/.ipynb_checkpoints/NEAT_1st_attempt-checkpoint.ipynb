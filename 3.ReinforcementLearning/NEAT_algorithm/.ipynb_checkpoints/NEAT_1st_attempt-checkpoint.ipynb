{
 "cells": [
  {
   "cell_type": "code",
   "execution_count": 365,
   "metadata": {},
   "outputs": [],
   "source": [
    "import numpy as np"
   ]
  },
  {
   "cell_type": "code",
   "execution_count": 366,
   "metadata": {},
   "outputs": [],
   "source": [
    "# Constants\n",
    "ni = 4\n",
    "no = 1\n",
    "nets = 150\n",
    "c1 = 1\n",
    "c2 = 1\n",
    "c3 = 0.4\n",
    "deltat = 3\n",
    "maxgen = 15\n",
    "mutw = 0.8\n",
    "mutwuni = 0.9\n",
    "ing = 0.75\n",
    "mwoc = 0.25\n",
    "interm = 0.001\n",
    "addnode = 0.03\n",
    "addlink_min = 0.05\n",
    "addlink_max = 0.3\n",
    "shifts = [-2, 2]\n",
    "def sig(x):\n",
    "    return 1/(1+np.exp(-4.9*x))"
   ]
  },
  {
   "cell_type": "code",
   "execution_count": 367,
   "metadata": {},
   "outputs": [],
   "source": [
    "def initNEAT(ni, no, nets):\n",
    "    '''Function that creates nets networks, with ni input nodes, and no output nodes'''\n",
    "    genomes = []\n",
    "    for net in range(nets):\n",
    "        nodes = []\n",
    "        for i in range(ni):\n",
    "            # Number of node and then sensor\n",
    "            nodes.append((i, 'sensor'))\n",
    "        # Bias node\n",
    "        nodes.append((ni, 'bias'))\n",
    "        for o in range(no):\n",
    "            # Number of node and then output\n",
    "            nodes.append((ni+1+o, 'output'))\n",
    "        genes = []\n",
    "        for i in range(ni+1):\n",
    "            for o in range(no):\n",
    "                # Input node, output node, weight, enabled or disabled and then innovation number\n",
    "                genes.append((i, ni+1+o, 4*(np.random.random()-0.5), 'enabled', o+no*i))\n",
    "        genome = {'nodes': nodes, 'genes': genes, 'specie': 0} # all are the same specie in the beginning\n",
    "        genomes.append(genome)\n",
    "    \n",
    "    return genomes"
   ]
  },
  {
   "cell_type": "code",
   "execution_count": 368,
   "metadata": {},
   "outputs": [
    {
     "name": "stdout",
     "output_type": "stream",
     "text": [
      "{'nodes': [(0, 'sensor'), (1, 'sensor'), (2, 'sensor'), (3, 'sensor'), (4, 'sensor'), (5, 'sensor'), (6, 'sensor'), (7, 'sensor'), (8, 'sensor'), (9, 'sensor'), (10, 'bias'), (11, 'output'), (12, 'output')], 'genes': [(0, 11, 1.2920974215067194, 'enabled', 0), (0, 12, -0.4279546143426587, 'enabled', 1), (1, 11, -0.8345392260460658, 'enabled', 2), (1, 12, -0.6897098820653831, 'enabled', 3), (2, 11, 1.4502523859262042, 'enabled', 4), (2, 12, -1.045319749869003, 'enabled', 5), (3, 11, -1.8860374411754517, 'enabled', 6), (3, 12, -1.9919104787076938, 'enabled', 7), (4, 11, -0.22834179831299428, 'enabled', 8), (4, 12, -0.7021047620066421, 'enabled', 9), (5, 11, 1.563204046345581, 'enabled', 10), (5, 12, 0.7716816096470365, 'enabled', 11), (6, 11, 0.8453811493830772, 'enabled', 12), (6, 12, 0.5411120442511201, 'enabled', 13), (7, 11, 1.4213458241193986, 'enabled', 14), (7, 12, -1.2269514283061143, 'enabled', 15), (8, 11, 1.5122327184859166, 'enabled', 16), (8, 12, 1.4814155808065803, 'enabled', 17), (9, 11, 0.5561710069781225, 'enabled', 18), (9, 12, 1.3602315262668911, 'enabled', 19), (10, 11, -0.6259052266891092, 'enabled', 20), (10, 12, -1.6737245201455644, 'enabled', 21)], 'specie': 0}\n"
     ]
    }
   ],
   "source": [
    "temp = initNEAT(10, 2, 1)\n",
    "print(temp[0])"
   ]
  },
  {
   "cell_type": "code",
   "execution_count": 369,
   "metadata": {},
   "outputs": [],
   "source": [
    "def forwardNEAT(genomes, invect):\n",
    "    '''Function that computes output of all networks from genomes with invect input'''\n",
    "    outvect = []\n",
    "    for genome in genomes:\n",
    "        # Finding input nodes, and building dictionary\n",
    "        indict = {node[0]: invect[node[0]] for node in genome['nodes'] if node[1] == 'sensor'}\n",
    "        biastemp = [(node[0], 1) for node in genome['nodes'] if node[1] == 'bias'][0]\n",
    "        indict[biastemp[0]] = biastemp[1]\n",
    "        # Determining output nodes\n",
    "        outemps = [node[0] for node in genome['nodes'] if node[1] == 'output']\n",
    "        # Building list of connections\n",
    "        connections = {}\n",
    "        for gene in genome['genes']:\n",
    "            if gene[3] == 'enabled':\n",
    "                if gene[1] in connections:\n",
    "                    connections[gene[1]].append((gene[0], gene[2]))\n",
    "                else:\n",
    "                    connections[gene[1]] = [(gene[0], gene[2])]\n",
    "        # Computing nodes values\n",
    "        for outemp in outemps:\n",
    "            while outemp not in indict:\n",
    "                for node, infos in connections.items():\n",
    "                    # Check if new node is computable\n",
    "                    computed_nodes = 1\n",
    "                    for info in infos:\n",
    "                        if info[0] not in indict:\n",
    "                            computed_nodes = 0\n",
    "                            break\n",
    "                    # Compute new node if computable\n",
    "                    if computed_nodes == 1:\n",
    "                        if node not in outemps:\n",
    "                            indict[node] = sig(sum([info[1]*indict[info[0]] for info in infos]))\n",
    "                        else:\n",
    "                            indict[node] = sum([info[1]*indict[info[0]] for info in infos])\n",
    "        # Determining output(s)\n",
    "        outvect.append([indict[outemp] for outemp in sorted(outemps)])\n",
    "    # Softmax function\n",
    "    outvect = [list(np.exp(np.array(outv))/np.sum(np.exp(np.array(outv)))) for outv in outvect]\n",
    "    \n",
    "    return outvect"
   ]
  },
  {
   "cell_type": "code",
   "execution_count": 370,
   "metadata": {},
   "outputs": [
    {
     "name": "stdout",
     "output_type": "stream",
     "text": [
      "[-0.026164064620278094, 0.04963485964513627, -0.025287921669369398, 0.046682940253012666, -0.049062056960327144, 0.04031371910407277, -0.014676933552354067, 0.007965319135425286, 0.002163305019717565, -0.03420596762018809]\n",
      "[[0.5381233622697684, 0.46187663773023163], [0.7347973481780926, 0.2652026518219074]]\n",
      "[[1.0, 4.8633152775791744e-204], [0.7347973481780926, 0.2652026518219074]]\n"
     ]
    }
   ],
   "source": [
    "import random\n",
    "temp = initNEAT(10, 2, 2)\n",
    "invect = [0.1*(random.random()-0.5) for node in temp[0]['nodes'] if node[1] == 'sensor']\n",
    "print(invect)\n",
    "print(forwardNEAT(temp, invect))\n",
    "temp[0]['nodes'].append((13, 'hidden'))\n",
    "temp[0]['genes'].append((0, 13, 1, 'enabled', 22))\n",
    "temp[0]['genes'].append((13, 11, 1000, 'enabled', 23))\n",
    "print(forwardNEAT(temp, invect))"
   ]
  },
  {
   "cell_type": "code",
   "execution_count": 371,
   "metadata": {},
   "outputs": [],
   "source": [
    "def compadistNEAT(genome_i, genome_j):\n",
    "    '''Function that computes compability distance between two genomes'''\n",
    "    # Recovering information\n",
    "    genes_geni = [(info[4], info[2]) for info in genome_i['genes']]\n",
    "    genes_genj = [(info[4], info[2]) for info in genome_j['genes']]\n",
    "    # Computing parameters\n",
    "    N = 1 if max(len(genes_geni), len(genes_genj)) < 20 else max(len(genes_geni), len(genes_genj))\n",
    "    excess = 0\n",
    "    disjoint = 0\n",
    "    diffw = []\n",
    "    if max(genes_geni)[0] < max(genes_genj)[0]:\n",
    "        temp = genes_geni\n",
    "        genes_geni = genes_genj\n",
    "        genes_genj = temp\n",
    "    for gene_geni in genes_geni:\n",
    "        if gene_geni[0] > max(genes_genj)[0]:\n",
    "            excess += 1\n",
    "        elif gene_geni[0] not in [gene_genj[0] for gene_genj in genes_genj]:\n",
    "            disjoint += 1\n",
    "        else:\n",
    "            diffw.append(np.abs(gene_geni[1] - sum([gene_genj[1] if gene_geni[0] == gene_genj[0] else 0 for gene_genj in genes_genj])))\n",
    "    for gene_genj in genes_genj:\n",
    "        if gene_genj[0] not in [gene_geni[0] for gene_geni in genes_geni]:\n",
    "            disjoint += 1\n",
    "    diffw = sum(diffw) / len(diffw)\n",
    "    # Computing compatibility distance\n",
    "    delta = c1*excess/N + c2*disjoint/N + c3*diffw  \n",
    "    \n",
    "    return delta"
   ]
  },
  {
   "cell_type": "code",
   "execution_count": 372,
   "metadata": {},
   "outputs": [],
   "source": [
    "def speciateNEAT(genomes, c1, c2, c3, deltat):\n",
    "    '''Function that speciates networks based on their inovation numbers'''\n",
    "    # Discriminate one network from all species\n",
    "    specie = []\n",
    "    indexes = []\n",
    "    sgenomes = []\n",
    "    for index, genome in enumerate(genomes):\n",
    "        if genome['specie'] not in specie:\n",
    "            specie.append(genome['specie'])\n",
    "            indexes.append(index)\n",
    "            sgenomes.append(genome)\n",
    "    # Loop over genomes and assign existing or new specie, depending on distance\n",
    "    for index, genome in enumerate(genomes):\n",
    "        if index not in indexes:\n",
    "            found_genome = 0\n",
    "            for sgenome in sgenomes:\n",
    "                # Recovering compatibility distance between two genomes\n",
    "                delta = compadistNEAT(genome, sgenome)\n",
    "                # Chosing specie\n",
    "                if delta < deltat:\n",
    "                    genome['specie'] = sgenome['specie']\n",
    "                    found_genome = 1\n",
    "                    break\n",
    "            # If no specie was associated, create new specie\n",
    "            if found_genome == 0:\n",
    "                genome['specie'] = max(specie) + 1\n",
    "                specie.append(max(specie)+1) \n",
    "                sgenomes.append(genome)\n",
    "    \n",
    "    return genomes"
   ]
  },
  {
   "cell_type": "code",
   "execution_count": 373,
   "metadata": {},
   "outputs": [
    {
     "name": "stdout",
     "output_type": "stream",
     "text": [
      "[0, 0, 1, 2, 2, 1, 0, 0, 0, 0, 0, 1, 0, 0, 0, 0, 0, 0, 0, 0]\n"
     ]
    }
   ],
   "source": [
    "temp = initNEAT(3, 2, 20)\n",
    "temp = speciateNEAT(temp, c1, c2, c3, 0.6)\n",
    "print([t['specie'] for t in temp])"
   ]
  },
  {
   "cell_type": "code",
   "execution_count": 374,
   "metadata": {},
   "outputs": [],
   "source": [
    "def adjustedFitNEAT(genomes, fitness, deltat):\n",
    "    '''Function that computes adjusted fitness based on fitness and compatibility distance'''\n",
    "    # Computed adjustment array\n",
    "    adjustment = np.zeros((len(genomes), len(genomes)))\n",
    "    for index_i, genome_i in enumerate(genomes):\n",
    "        for index_j, genome_j in enumerate(genomes):\n",
    "            if index_i != index_j:\n",
    "                adjustment[index_i, index_j] = 1*(compadistNEAT(genome_i, genome_j)<deltat)\n",
    "    adjustment = list(np.sum(adjustment, 0))\n",
    "    # Deduce adjusted fitness\n",
    "    adjustment = [adjust if adjust != 0 else 1 for adjust in adjustment]\n",
    "    adjustedFitness = [fit/adjustment[index] for index, fit in enumerate(fitness)]\n",
    "    \n",
    "    return adjustedFitness"
   ]
  },
  {
   "cell_type": "code",
   "execution_count": 375,
   "metadata": {},
   "outputs": [
    {
     "name": "stdout",
     "output_type": "stream",
     "text": [
      "[1.4285714285714286, 1.6666666666666667, 3.3333333333333335, 1.6666666666666667, 1.6666666666666667, 0.8333333333333334, 1.25, 3.3333333333333335, 1.6666666666666667, 1.0, 0.9090909090909091, 2.0, 1.1111111111111112, 1.25, 1.0, 2.0, 2.5, 3.3333333333333335, 1.1111111111111112, 2.0]\n"
     ]
    }
   ],
   "source": [
    "fitness = [10] * 20\n",
    "print(adjustedFitNEAT(temp, fitness, 0.5))"
   ]
  },
  {
   "cell_type": "code",
   "execution_count": 376,
   "metadata": {},
   "outputs": [],
   "source": [
    "def mateNEAT(genomes, adjustedFitness):\n",
    "    pass"
   ]
  },
  {
   "cell_type": "code",
   "execution_count": 377,
   "metadata": {},
   "outputs": [],
   "source": [
    "def mutateNEAT(genomes):\n",
    "    pass"
   ]
  },
  {
   "cell_type": "code",
   "execution_count": null,
   "metadata": {},
   "outputs": [],
   "source": []
  }
 ],
 "metadata": {
  "kernelspec": {
   "display_name": "Python 3",
   "language": "python",
   "name": "python3"
  },
  "language_info": {
   "codemirror_mode": {
    "name": "ipython",
    "version": 3
   },
   "file_extension": ".py",
   "mimetype": "text/x-python",
   "name": "python",
   "nbconvert_exporter": "python",
   "pygments_lexer": "ipython3",
   "version": "3.6.8"
  }
 },
 "nbformat": 4,
 "nbformat_minor": 2
}
