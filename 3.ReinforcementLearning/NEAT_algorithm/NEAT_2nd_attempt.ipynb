{
 "cells": [
  {
   "cell_type": "code",
   "execution_count": 13,
   "metadata": {},
   "outputs": [],
   "source": [
    "import numpy as np\n",
    "import random"
   ]
  },
  {
   "cell_type": "code",
   "execution_count": 14,
   "metadata": {},
   "outputs": [],
   "source": [
    "# Constants\n",
    "ni = 4\n",
    "no = 1\n",
    "nets = 150\n",
    "c1 = 1\n",
    "c2 = 1\n",
    "c3 = 0.4\n",
    "deltat = 3\n",
    "maxgen = 15\n",
    "mutw = 0.8\n",
    "mutwuni = 0.9\n",
    "ing = 0.75\n",
    "mwoc = 0.25\n",
    "addnode = 0.03\n",
    "addlink_min = 0.05\n",
    "addlink_max = 0.3\n",
    "shifts = [-2, 2]\n",
    "def sig(x):\n",
    "    return 1/(1+np.exp(-4.9*x))"
   ]
  },
  {
   "cell_type": "code",
   "execution_count": 30,
   "metadata": {},
   "outputs": [],
   "source": [
    "def initNEAT(ni, no, nets, shifts):\n",
    "    '''Function that creates nets networks, with ni input nodes, and no output nodes'''\n",
    "    # Create dictionary of nodes\n",
    "    nodedict = {}\n",
    "    for nodei in range(ni):\n",
    "        nodedict[nodei] = 'sensor'\n",
    "    for nodeo in range(no):\n",
    "        nodedict[ni+nodeo] = 'output'\n",
    "    # Create dictionary of inovation numbers\n",
    "    inovdict = {}\n",
    "    inovnum = 0\n",
    "    for nodei in range(ni):\n",
    "        for nodeo in range(no):\n",
    "            inovdict[(nodei, ni+nodeo)] = inovnum\n",
    "            inovnum += 1\n",
    "    # Create dictionary of streams\n",
    "    streamdict = {}\n",
    "    for nodei in range(ni):\n",
    "        streamdict[nodei] = 0\n",
    "    for nodeo in range(no):\n",
    "        streamdict[ni+nodeo] = 1\n",
    "    # Create dictionary of connexions\n",
    "    condict = {}\n",
    "    for nodeo in range(no):\n",
    "        condict[ni+nodeo] = [nodei for nodei in range(ni)]\n",
    "    # Concatenate dictionaries in parameters\n",
    "    parameters = [nodedict, inovdict, streamdict, condict]\n",
    "    \n",
    "    # Build genomes\n",
    "    genomes = []\n",
    "    for net in range(nets):\n",
    "        specie = 0\n",
    "        nodes = [node for node in nodedict.keys()]\n",
    "        genes = {inov: [random.uniform(shifts[0], shifts[1]), 'enabled'] for inov in inovdict.values()}\n",
    "        genomes.append({'specie': specie, 'nodes': nodes, 'genes':genes})\n",
    "    \n",
    "    return genomes, parameters"
   ]
  },
  {
   "cell_type": "code",
   "execution_count": 31,
   "metadata": {},
   "outputs": [
    {
     "name": "stdout",
     "output_type": "stream",
     "text": [
      "[{'specie': 0, 'nodes': [0, 1, 2, 3, 4, 5], 'genes': {0: [0.01070466892794908, 'enabled'], 1: [1.331938319155971, 'enabled'], 2: [-0.7541603896204347, 'enabled'], 3: [0.8603940288163341, 'enabled'], 4: [-1.5615336729865867, 'enabled'], 5: [-0.3649900241473274, 'enabled'], 6: [-1.9731098376796763, 'enabled'], 7: [0.8052699394113625, 'enabled']}}, {'specie': 0, 'nodes': [0, 1, 2, 3, 4, 5], 'genes': {0: [1.125274504765863, 'enabled'], 1: [1.5740090940904201, 'enabled'], 2: [-0.7942979389383265, 'enabled'], 3: [0.8624574101659932, 'enabled'], 4: [-0.17393875229676414, 'enabled'], 5: [-1.337110334672135, 'enabled'], 6: [0.4588107788983171, 'enabled'], 7: [-0.20826032371609982, 'enabled']}}]\n",
      "[{0: 'sensor', 1: 'sensor', 2: 'sensor', 3: 'sensor', 4: 'output', 5: 'output'}, {(0, 4): 0, (0, 5): 1, (1, 4): 2, (1, 5): 3, (2, 4): 4, (2, 5): 5, (3, 4): 6, (3, 5): 7}, {0: 0, 1: 0, 2: 0, 3: 0, 4: 1, 5: 1}, {4: [0, 1, 2, 3], 5: [0, 1, 2, 3]}]\n"
     ]
    }
   ],
   "source": [
    "genomes, parameters = initNEAT(4, 2, 2, shifts)\n",
    "print(genomes)\n",
    "print(parameters)"
   ]
  },
  {
   "cell_type": "code",
   "execution_count": 34,
   "metadata": {},
   "outputs": [],
   "source": [
    "def forwardNEAT(genomes, inputs, parameters, activation='softmax'):\n",
    "    '''Function that computes output of all networks from genomes with invect input'''\n",
    "    # Recover dictionaries\n",
    "    nodedict, inovdict, streamdict, condict = parameters\n",
    "    # Compute outputs for all genomes\n",
    "    outvect = []\n",
    "    for genome in genomes:\n",
    "        # Node value dictionary\n",
    "        nodevalue = {}\n",
    "        # Initialize\n",
    "        init = [node for node, nodetype in nodedict.items() if nodetype == 'sensor']\n",
    "        init.sort()\n",
    "        nodevalue = {node: inputs[index] for index, node in enumerate(init)}\n",
    "        # Add node values by recurrence\n",
    "        streamlist = []\n",
    "        for stream in range(1, max(streamdict.values())):\n",
    "            streamlist.append([node for node, streamnum in streamdict.items() if streamnum == stream])\n",
    "        for stream in streamlist[:-1]:\n",
    "            for node in genome['nodes']:\n",
    "                if node in streamlist:\n",
    "                    nodesum = 0\n",
    "                    for formernode in condict[node]:\n",
    "                        gene = genome['genes'][inovdict[(formernode, node)]]\n",
    "                        nodeplus = nodevalue[formernode]*gene[0] if gene[1] == 'enabled' else 0\n",
    "                        nodesum += nodeplus\n",
    "                    nodevalue[node] = sig(nodesum)\n",
    "        # Compute outputs\n",
    "        output = [node for node, nodetype in nodedict.items() if nodetype == 'output']\n",
    "        output.sort()\n",
    "        outvect_genome = []\n",
    "        for node in output:\n",
    "            nodesum = 0\n",
    "            for formernode in condict[node]:\n",
    "                gene = genome['genes'][inovdict[(formernode, node)]]\n",
    "                nodeplus = nodevalue[formernode]*gene[0] if gene[1] == 'enabled' else 0\n",
    "                nodesum += nodeplus\n",
    "            nodevalue[node] = nodesum # to debug if necessary\n",
    "            outvect_genome.append(nodesum)\n",
    "        # Add genome outvect to general outvect\n",
    "        if activation == 'linear':\n",
    "            outvect.append(outvect_genome)\n",
    "        elif activation == 'softmax':\n",
    "            outvect.append(list(np.exp(outvect_genome)/np.sum(np.exp(outvect_genome))))\n",
    "        \n",
    "    return outvect"
   ]
  },
  {
   "cell_type": "code",
   "execution_count": 39,
   "metadata": {},
   "outputs": [
    {
     "name": "stdout",
     "output_type": "stream",
     "text": [
      "[{'specie': 0, 'nodes': [0, 1, 2, 3], 'genes': {0: [0.5954454600176993, 'enabled'], 1: [1.8124903214343089, 'enabled'], 2: [1.3736960516864758, 'enabled'], 3: [1.693012130080195, 'enabled']}}, {'specie': 0, 'nodes': [0, 1, 2, 3], 'genes': {0: [1.4841278309082053, 'enabled'], 1: [1.7347130025731259, 'enabled'], 2: [-1.2466045491008457, 'enabled'], 3: [1.1785613470737464, 'enabled']}}]\n",
      "[[13.736960516864759, 16.93012130080195], [-12.466045491008458, 11.785613470737463]]\n"
     ]
    }
   ],
   "source": [
    "genomes, parameters = initNEAT(2, 2, 2, shifts)\n",
    "outvect = forwardNEAT(genomes, [0, 10], parameters, activation='linear')\n",
    "print(genomes)\n",
    "print(outvect)"
   ]
  },
  {
   "cell_type": "code",
   "execution_count": 23,
   "metadata": {},
   "outputs": [],
   "source": [
    "def mutateNEAT(genomes, nochampions, mutw, mutwuni, addlink_min, addlink_max, addnode, shifts, parameters):\n",
    "    '''Function that applie mutations to genomes based on parameters. Only nochampions are mutated'''\n",
    "    # Recover dictionaries\n",
    "    nodedict, inovdict, streamlist, condict = parameters\n",
    "    # Mutate only genomes that are no champions\n",
    "    for nochampion in nochampions:\n",
    "        genome = genomes[nochampion]\n",
    "        # Mutate genes\n",
    "        for inovnum, geneinfo in genome['genes'].items():\n",
    "            if random.random() < mutw:\n",
    "                if random.random() < mutwuni:\n",
    "                    new_weight = geneinfo[0] * (random.random()*(shifts[1]-shifts[0]) + shifts[0])\n",
    "                else:\n",
    "                    new_weight = random.random()*(shifts[1]-shifts[0]) + shifts[0]\n",
    "                genome['genes'][inovnum] = [new_weight, geneinfo[1]]\n",
    "        # Add potential link\n",
    "        len_species = sum([1 for gen in genomes if gen['specie'] == genome['specie']])\n",
    "        addlink = addlink_min if len_species < 20 else addlink_max\n",
    "        if random.random() < addlink:\n",
    "            # Build possible connections\n",
    "            for nodei in genome['nodes']:\n",
    "                for nodej in genome['nodes']:\n",
    "                    if streamlist\n",
    "        \n",
    "        # Replace old genome with new genome\n",
    "        genomes[nochampion] = genome\n",
    "    \n",
    "    return genomes, parameters"
   ]
  },
  {
   "cell_type": "code",
   "execution_count": 29,
   "metadata": {},
   "outputs": [
    {
     "name": "stdout",
     "output_type": "stream",
     "text": [
      "[{'specie': 0, 'nodes': [0, 1, 2, 3, 4], 'genes': {0: [0.22854567134754733, 'disabled'], 1: [0.4962032090306847, 'enabled'], 2: [0.2293286597688864, 'enabled'], 3: [1.3301907762134566, 'enabled']}}]\n",
      "[{'specie': 0, 'nodes': [0, 1, 2, 3, 4], 'genes': {0: [-0.41475283452452694, 'disabled'], 1: [0.4962032090306847, 'enabled'], 2: [-0.260386236750962, 'enabled'], 3: [-1.4774177676226288, 'enabled']}}]\n"
     ]
    }
   ],
   "source": [
    "genomes, parameters = initNEAT(4, 1, 1, shifts)\n",
    "genomes[0]['genes'][0][1] = 'disabled' # to see if it works\n",
    "print(genomes)\n",
    "for i in range(1):\n",
    "    genomes, parameters = mutateNEAT(genomes, [0], mutw, mutwuni, addlink_min, addlink_max, addnode, shifts, parameters)\n",
    "print(genomes)"
   ]
  },
  {
   "cell_type": "code",
   "execution_count": null,
   "metadata": {},
   "outputs": [],
   "source": []
  }
 ],
 "metadata": {
  "kernelspec": {
   "display_name": "Python 3",
   "language": "python",
   "name": "python3"
  },
  "language_info": {
   "codemirror_mode": {
    "name": "ipython",
    "version": 3
   },
   "file_extension": ".py",
   "mimetype": "text/x-python",
   "name": "python",
   "nbconvert_exporter": "python",
   "pygments_lexer": "ipython3",
   "version": "3.7.3"
  }
 },
 "nbformat": 4,
 "nbformat_minor": 2
}
