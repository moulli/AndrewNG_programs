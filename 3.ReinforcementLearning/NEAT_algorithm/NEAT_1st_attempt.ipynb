{
 "cells": [
  {
   "cell_type": "code",
   "execution_count": 1,
   "metadata": {},
   "outputs": [],
   "source": [
    "import numpy as np"
   ]
  },
  {
   "cell_type": "code",
   "execution_count": 2,
   "metadata": {},
   "outputs": [],
   "source": [
    "# Constants\n",
    "ni = 4\n",
    "no = 1\n",
    "nets = 150\n",
    "c1 = 1\n",
    "c2 = 1\n",
    "c3 = 0.4\n",
    "deltat = 3\n",
    "maxgen = 15\n",
    "mutw = 0.8\n",
    "mutwuni = 0.9\n",
    "ing = 0.75\n",
    "mwoc = 0.25\n",
    "interm = 0.001\n",
    "addnode = 0.03\n",
    "addlink_min = 0.05\n",
    "addlink_max = 0.3\n",
    "shifts = [-2, 2]\n",
    "def sig(x):\n",
    "    return 1/(1+np.exp(-4.9*x))"
   ]
  },
  {
   "cell_type": "code",
   "execution_count": 20,
   "metadata": {},
   "outputs": [],
   "source": [
    "def initNEAT(ni, no, nets):\n",
    "    genomes = []\n",
    "    for net in range(nets):\n",
    "        nodes = []\n",
    "        for i in range(ni):\n",
    "            # Number of node and then sensor\n",
    "            nodes.append((i, 'sensor'))\n",
    "        for o in range(no):\n",
    "            # Number of node and then output\n",
    "            nodes.append((ni+o, 'output'))\n",
    "        genes = []\n",
    "        for i in range(ni):\n",
    "            for o in range(no):\n",
    "                # Input node, output node, weight, enabled or disabled and then innovation number\n",
    "                genes.append((i, ni+o, 4*(np.random.random()-0.5), 'enabled', o+no*i))\n",
    "        genome = {'nodes': nodes, 'genes': genes}\n",
    "        genomes.append(genome)\n",
    "    \n",
    "    return genomes"
   ]
  },
  {
   "cell_type": "code",
   "execution_count": 23,
   "metadata": {},
   "outputs": [
    {
     "name": "stdout",
     "output_type": "stream",
     "text": [
      "[{'nodes': [(0, 'sensor'), (1, 'sensor'), (2, 'sensor'), (3, 'sensor'), (4, 'output'), (5, 'output')], 'genes': [(0, 4, 1.814801450289948, 'enabled', 0), (0, 5, -0.3299575661290146, 'enabled', 1), (1, 4, -1.6801785405884195, 'enabled', 2), (1, 5, 1.2219163163469595, 'enabled', 3), (2, 4, 0.3215053411042059, 'enabled', 4), (2, 5, -0.28966754091603875, 'enabled', 5), (3, 4, -1.4383262880286938, 'enabled', 6), (3, 5, -0.8538073158825057, 'enabled', 7)]}, {'nodes': [(0, 'sensor'), (1, 'sensor'), (2, 'sensor'), (3, 'sensor'), (4, 'output'), (5, 'output')], 'genes': [(0, 4, -1.6468360242413365, 'enabled', 0), (0, 5, 1.103068690780879, 'enabled', 1), (1, 4, -0.7701466466052969, 'enabled', 2), (1, 5, -1.2712910648869267, 'enabled', 3), (2, 4, 0.4811041291460141, 'enabled', 4), (2, 5, -0.8950397585960275, 'enabled', 5), (3, 4, 1.4724999154226457, 'enabled', 6), (3, 5, -1.3423372244740746, 'enabled', 7)]}]\n"
     ]
    }
   ],
   "source": [
    "temp = initNEAT(4, 2, 2)\n",
    "print(temp)"
   ]
  },
  {
   "cell_type": "code",
   "execution_count": null,
   "metadata": {},
   "outputs": [],
   "source": []
  }
 ],
 "metadata": {
  "kernelspec": {
   "display_name": "Python 3",
   "language": "python",
   "name": "python3"
  },
  "language_info": {
   "codemirror_mode": {
    "name": "ipython",
    "version": 3
   },
   "file_extension": ".py",
   "mimetype": "text/x-python",
   "name": "python",
   "nbconvert_exporter": "python",
   "pygments_lexer": "ipython3",
   "version": "3.6.8"
  }
 },
 "nbformat": 4,
 "nbformat_minor": 2
}
