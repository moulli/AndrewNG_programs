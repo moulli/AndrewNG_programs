{
 "cells": [
  {
   "cell_type": "code",
   "execution_count": 1,
   "metadata": {},
   "outputs": [],
   "source": [
    "import numpy as np"
   ]
  },
  {
   "cell_type": "code",
   "execution_count": 2,
   "metadata": {},
   "outputs": [],
   "source": [
    "# Constants\n",
    "ni = 4\n",
    "no = 1\n",
    "nets = 150\n",
    "c1 = 1\n",
    "c2 = 1\n",
    "c3 = 0.4\n",
    "deltat = 3\n",
    "maxgen = 15\n",
    "mutw = 0.8\n",
    "mutwuni = 0.9\n",
    "ing = 0.75\n",
    "mwoc = 0.25\n",
    "addnode = 0.03\n",
    "addlink_min = 0.05\n",
    "addlink_max = 0.3\n",
    "shifts = [-2, 2]\n",
    "def sig(x):\n",
    "    return 1/(1+np.exp(-4.9*x))"
   ]
  },
  {
   "cell_type": "code",
   "execution_count": 3,
   "metadata": {},
   "outputs": [],
   "source": [
    "def initNEAT(ni, no, nets):\n",
    "    '''Function that creates nets networks, with ni input nodes, and no output nodes'''\n",
    "    genomes = []\n",
    "    for net in range(nets):\n",
    "        nodes = []\n",
    "        for i in range(ni):\n",
    "            # Number of node and then sensor\n",
    "            nodes.append((i, 'sensor'))\n",
    "        # Bias node\n",
    "        nodes.append((ni, 'bias'))\n",
    "        for o in range(no):\n",
    "            # Number of node and then output\n",
    "            nodes.append((ni+1+o, 'output'))\n",
    "        genes = []\n",
    "        for i in range(ni+1):\n",
    "            for o in range(no):\n",
    "                # Input node, output node, weight, enabled or disabled and then innovation number\n",
    "                genes.append((i, ni+1+o, 4*(np.random.random()-0.5), 'enabled', o+no*i))\n",
    "        genome = {'specie': 0, 'nodes': nodes, 'genes': genes} # all are the same specie in the beginning\n",
    "        genomes.append(genome)\n",
    "        # Dictionary with inovations\n",
    "        inovdict = {}\n",
    "        for i in range(ni+1):\n",
    "            for o in range(no):\n",
    "                inovdict[(i, ni+1+o)] = o+no*i\n",
    "        # Dictionary with new nodes\n",
    "        nodedict = {'maxnode': ni+no}\n",
    "    \n",
    "    return genomes, inovdict, nodedict"
   ]
  },
  {
   "cell_type": "code",
   "execution_count": 4,
   "metadata": {},
   "outputs": [
    {
     "name": "stdout",
     "output_type": "stream",
     "text": [
      "{'specie': 0, 'nodes': [(0, 'sensor'), (1, 'sensor'), (2, 'sensor'), (3, 'sensor'), (4, 'sensor'), (5, 'sensor'), (6, 'sensor'), (7, 'sensor'), (8, 'sensor'), (9, 'sensor'), (10, 'bias'), (11, 'output'), (12, 'output')], 'genes': [(0, 11, 1.9753708208524268, 'enabled', 0), (0, 12, 0.09927686629901444, 'enabled', 1), (1, 11, -0.6987001106148689, 'enabled', 2), (1, 12, 0.844979856528381, 'enabled', 3), (2, 11, -0.6350819902792755, 'enabled', 4), (2, 12, 0.8975072113314648, 'enabled', 5), (3, 11, -0.16553145346247167, 'enabled', 6), (3, 12, -1.2505872698403055, 'enabled', 7), (4, 11, 1.2437770366990737, 'enabled', 8), (4, 12, 0.9754955843844515, 'enabled', 9), (5, 11, -0.13011855748151735, 'enabled', 10), (5, 12, -0.5895769710953109, 'enabled', 11), (6, 11, -1.7174059050797665, 'enabled', 12), (6, 12, -0.27257558682309346, 'enabled', 13), (7, 11, -1.5018392912900844, 'enabled', 14), (7, 12, 0.7784134451280056, 'enabled', 15), (8, 11, 1.4268428937250373, 'enabled', 16), (8, 12, 0.3142464852507896, 'enabled', 17), (9, 11, -0.05098998536449928, 'enabled', 18), (9, 12, -1.539203138357434, 'enabled', 19), (10, 11, -0.26846724155099144, 'enabled', 20), (10, 12, 0.29863201816686624, 'enabled', 21)]}\n",
      "{(0, 11): 0, (0, 12): 1, (1, 11): 2, (1, 12): 3, (2, 11): 4, (2, 12): 5, (3, 11): 6, (3, 12): 7, (4, 11): 8, (4, 12): 9, (5, 11): 10, (5, 12): 11, (6, 11): 12, (6, 12): 13, (7, 11): 14, (7, 12): 15, (8, 11): 16, (8, 12): 17, (9, 11): 18, (9, 12): 19, (10, 11): 20, (10, 12): 21}\n",
      "{'maxnode': 12}\n"
     ]
    }
   ],
   "source": [
    "temp, inovdict, nodedict = initNEAT(10, 2, 1)\n",
    "print(temp[0])\n",
    "print(inovdict)\n",
    "print(nodedict)"
   ]
  },
  {
   "cell_type": "code",
   "execution_count": 46,
   "metadata": {},
   "outputs": [],
   "source": [
    "def forwardNEAT(genomes, invect):\n",
    "    '''Function that computes output of all networks from genomes with invect input'''\n",
    "    outvect = []\n",
    "    for genome in genomes:\n",
    "        # Finding input nodes, and building dictionary\n",
    "        indict = {node[0]: invect[node[0]] for node in genome['nodes'] if node[1] == 'sensor'}\n",
    "        biastemp = [(node[0], 1) for node in genome['nodes'] if node[1] == 'bias'][0]\n",
    "        indict[biastemp[0]] = biastemp[1]\n",
    "        # Determining output nodes\n",
    "        outemps = [node[0] for node in genome['nodes'] if node[1] == 'output']\n",
    "        # Building list of connections\n",
    "        connections = {}\n",
    "        for gene in genome['genes']:\n",
    "            if gene[3] == 'enabled':\n",
    "                if gene[1] in connections:\n",
    "                    connections[gene[1]].append((gene[0], gene[2]))\n",
    "                else:\n",
    "                    connections[gene[1]] = [(gene[0], gene[2])]\n",
    "        # Computing nodes values\n",
    "        for outemp in outemps:\n",
    "            while outemp not in indict:\n",
    "                for node, infos in connections.items():\n",
    "                    # Check if new node is computable\n",
    "                    computed_nodes = 1\n",
    "                    for info in infos:\n",
    "                        if info[0] not in indict:\n",
    "                            computed_nodes = 0\n",
    "                            break\n",
    "                    # Compute new node if computable\n",
    "                    if computed_nodes == 1:\n",
    "                        if node not in outemps:\n",
    "                            indict[node] = sig(sum([info[1]*indict[info[0]] for info in infos]))\n",
    "                        else:\n",
    "                            indict[node] = sum([info[1]*indict[info[0]] for info in infos])\n",
    "        # Determining output(s)\n",
    "        outvect.append([indict[outemp] for outemp in sorted(outemps)])\n",
    "    # Softmax function\n",
    "    outvect = [list(np.exp(np.array(outv))/np.sum(np.exp(np.array(outv)))) for outv in outvect]\n",
    "    \n",
    "    return outvect"
   ]
  },
  {
   "cell_type": "code",
   "execution_count": 6,
   "metadata": {},
   "outputs": [
    {
     "name": "stdout",
     "output_type": "stream",
     "text": [
      "[0.006184278446162195, 0.04147203861823617, 0.010472635825933352, 0.0421915287811659, -0.020307733843267086, -0.03908390698070927, 0.023156807203516462, -0.0489870252609254, 0.036886123543430994, -0.021674700522843916]\n",
      "[[0.6386825401327272, 0.3613174598672727], [0.8802403047637319, 0.11975969523626809]]\n",
      "[[1.0, 2.0678171931047791e-221], [0.8802403047637319, 0.11975969523626809]]\n"
     ]
    }
   ],
   "source": [
    "import random\n",
    "temp, _, _ = initNEAT(10, 2, 2)\n",
    "invect = [0.1*(random.random()-0.5) for node in temp[0]['nodes'] if node[1] == 'sensor']\n",
    "print(invect)\n",
    "print(forwardNEAT(temp, invect))\n",
    "temp[0]['nodes'].append((13, 'hidden'))\n",
    "temp[0]['genes'].append((0, 13, 1, 'enabled', 22))\n",
    "temp[0]['genes'].append((13, 11, 1000, 'enabled', 23))\n",
    "print(forwardNEAT(temp, invect))"
   ]
  },
  {
   "cell_type": "code",
   "execution_count": 7,
   "metadata": {},
   "outputs": [],
   "source": [
    "def compadistNEAT(genome_i, genome_j):\n",
    "    '''Function that computes compability distance between two genomes'''\n",
    "    # Recovering information\n",
    "    genes_geni = [(info[4], info[2]) for info in genome_i['genes']]\n",
    "    genes_genj = [(info[4], info[2]) for info in genome_j['genes']]\n",
    "    # Computing parameters\n",
    "    N = 1 if max(len(genes_geni), len(genes_genj)) < 20 else max(len(genes_geni), len(genes_genj))\n",
    "    excess = 0\n",
    "    disjoint = 0\n",
    "    diffw = []\n",
    "    if max(genes_geni)[0] < max(genes_genj)[0]:\n",
    "        temp = genes_geni\n",
    "        genes_geni = genes_genj\n",
    "        genes_genj = temp\n",
    "    for gene_geni in genes_geni:\n",
    "        if gene_geni[0] > max(genes_genj)[0]:\n",
    "            excess += 1\n",
    "        elif gene_geni[0] not in [gene_genj[0] for gene_genj in genes_genj]:\n",
    "            disjoint += 1\n",
    "        else:\n",
    "            diffw.append(np.abs(gene_geni[1] - sum([gene_genj[1] if gene_geni[0] == gene_genj[0] else 0 for gene_genj in genes_genj])))\n",
    "    for gene_genj in genes_genj:\n",
    "        if gene_genj[0] not in [gene_geni[0] for gene_geni in genes_geni]:\n",
    "            disjoint += 1\n",
    "    diffw = sum(diffw) / len(diffw)\n",
    "    # Computing compatibility distance\n",
    "    delta = c1*excess/N + c2*disjoint/N + c3*diffw  \n",
    "    \n",
    "    return delta"
   ]
  },
  {
   "cell_type": "code",
   "execution_count": 8,
   "metadata": {},
   "outputs": [],
   "source": [
    "def speciateNEAT(genomes, c1, c2, c3, deltat):\n",
    "    '''Function that speciates networks based on their inovation numbers'''\n",
    "    # Discriminate one network from all species\n",
    "    specie = []\n",
    "    indexes = []\n",
    "    sgenomes = []\n",
    "    for index, genome in enumerate(genomes):\n",
    "        if genome['specie'] not in specie:\n",
    "            specie.append(genome['specie'])\n",
    "            indexes.append(index)\n",
    "            sgenomes.append(genome)\n",
    "    # Loop over genomes and assign existing or new specie, depending on distance\n",
    "    for index, genome in enumerate(genomes):\n",
    "        if index not in indexes:\n",
    "            found_genome = 0\n",
    "            for sgenome in sgenomes:\n",
    "                # Recovering compatibility distance between two genomes\n",
    "                delta = compadistNEAT(genome, sgenome)\n",
    "                # Chosing specie\n",
    "                if delta < deltat:\n",
    "                    genome['specie'] = sgenome['specie']\n",
    "                    found_genome = 1\n",
    "                    break\n",
    "            # If no specie was associated, create new specie\n",
    "            if found_genome == 0:\n",
    "                genome['specie'] = max(specie) + 1\n",
    "                specie.append(max(specie)+1) \n",
    "                sgenomes.append(genome)\n",
    "    \n",
    "    return genomes"
   ]
  },
  {
   "cell_type": "code",
   "execution_count": 9,
   "metadata": {},
   "outputs": [
    {
     "name": "stdout",
     "output_type": "stream",
     "text": [
      "[0, 1, 0, 0, 0, 0, 2, 0, 2, 1, 0, 0, 1, 0, 0, 0, 0, 0, 0, 1, 0, 1, 0, 2, 0, 0, 0, 0, 0, 1]\n"
     ]
    }
   ],
   "source": [
    "temp, _, _ = initNEAT(1, 1, 30)\n",
    "temp = speciateNEAT(temp, c1, c2, c3, 0.7)\n",
    "print([t['specie'] for t in temp])"
   ]
  },
  {
   "cell_type": "code",
   "execution_count": 10,
   "metadata": {},
   "outputs": [],
   "source": [
    "def adjustedFitNEAT(genomes, fitness, deltat):\n",
    "    '''Function that computes adjusted fitness based on fitness and compatibility distance'''\n",
    "    # Computed adjustment array\n",
    "    adjustment = np.zeros((len(genomes), len(genomes)))\n",
    "    for index_i, genome_i in enumerate(genomes):\n",
    "        for index_j, genome_j in enumerate(genomes):\n",
    "            if index_i != index_j:\n",
    "                adjustment[index_i, index_j] = 1*(compadistNEAT(genome_i, genome_j)<deltat)\n",
    "    adjustment = list(np.sum(adjustment, 0))\n",
    "    # Deduce adjusted fitness\n",
    "    adjustment = [adjust if adjust != 0 else 1 for adjust in adjustment]\n",
    "    adjustedFitness = [fit/adjustment[index] for index, fit in enumerate(fitness)]\n",
    "    \n",
    "    return adjustedFitness"
   ]
  },
  {
   "cell_type": "code",
   "execution_count": 11,
   "metadata": {},
   "outputs": [
    {
     "name": "stdout",
     "output_type": "stream",
     "text": [
      "[1.0, 0.9090909090909091, 0.7692307692307693, 0.5263157894736842, 0.7142857142857143, 0.8333333333333334, 0.8333333333333334, 0.8333333333333334, 1.0, 0.5882352941176471, 0.7692307692307693, 0.5, 0.9090909090909091, 0.625, 1.0, 0.5882352941176471, 0.7142857142857143, 0.7142857142857143, 0.9090909090909091, 0.8333333333333334, 0.6666666666666666, 1.6666666666666667, 0.7692307692307693, 0.7692307692307693, 0.5263157894736842, 0.8333333333333334, 0.47619047619047616, 0.7692307692307693, 0.5882352941176471, 1.4285714285714286]\n",
      "24.06338308234593\n"
     ]
    }
   ],
   "source": [
    "fitness = [10] * 30\n",
    "adjustedFitness = adjustedFitNEAT(temp, fitness, 0.5)\n",
    "print(adjustedFitness)\n",
    "print(sum(adjustedFitness))"
   ]
  },
  {
   "cell_type": "code",
   "execution_count": 56,
   "metadata": {},
   "outputs": [],
   "source": [
    "def newfitdequeNEAT(genomes, fitness, fitdeque, maxgen):\n",
    "    '''Function that updates fitness deque and returns dictionary of species with 1 if keep and 0 if delete'''\n",
    "    # Update fitness deque\n",
    "    fitdict = {}\n",
    "    for index, genome in enumerate(genomes):\n",
    "        if genome['specie'] in fitdict:\n",
    "            fitdict[genome['specie']].append(fitness[index])\n",
    "        else:\n",
    "            fitdict[genome['specie']] = [fitness[index]]\n",
    "    fitdict = {specie: max(fits) for specie, fits in fitdict.items()}\n",
    "    fitdeque.append(fitdict)\n",
    "    # Define historic of fitnesses for each specie\n",
    "    hist_species = {}\n",
    "    species = [specie for specie in fitdict]\n",
    "    for specie in species:\n",
    "        for fits in fitdeque:\n",
    "            if specie in fits:\n",
    "                if specie in hist_species:\n",
    "                    hist_species[specie].append(fits[specie])\n",
    "                else:\n",
    "                    hist_species[specie] = [fits[specie]]\n",
    "    # Define which species to keep\n",
    "    kill_species = []\n",
    "    for specie, hists in hist_species.items():\n",
    "        evolution = [1 if hist>hists[0] else 0 for hist in hists[1:]]\n",
    "        if sum(evolution) == 0:\n",
    "            kill_species.append(specie)\n",
    "    \n",
    "    return kill_species, fitdeque"
   ]
  },
  {
   "cell_type": "code",
   "execution_count": 57,
   "metadata": {},
   "outputs": [],
   "source": [
    "def mateNEAT(genomes, adjustedFitness, kill_species, ing, mwoc):\n",
    "    '''Function that returns offsprings genomes based on fitness. fitdeque allows to delete species if necessary'''\n",
    "    # Computing proportion per specie to keep\n",
    "    proportion = {}\n",
    "    sumfit = sum([adjustedFitness[ind] for ind, genome in enumerate(genomes) if genome['specie'] not in kill_species])\n",
    "    for index, genome in enumerate(genomes):\n",
    "        if genome['specie'] not in kill_species: # kill species to kill\n",
    "            if genome['specie'] in proportion:\n",
    "                proportion[genome['specie']].append(adjustedFitness[index])\n",
    "            else:\n",
    "                proportion[genome['specie']] = [adjustedFitness[index]]\n",
    "    proportion = {specie: int(len(genomes)*sum(fits)/sumfit)+1 for specie, fits in proportion.items()}\n",
    "    # Define final specie repartition\n",
    "    difference = sum([proportion[specie] for specie in proportion]) - len(genomes)\n",
    "    species = [specie for specie in proportion]\n",
    "    while difference != 0:\n",
    "        specie = random.choice(species)\n",
    "        while proportion[specie] == 1:\n",
    "            specie = random.choice(species)\n",
    "        proportion[specie] -= 1\n",
    "        difference -= 1\n",
    "    # Create new genomes with a percentage of genomes from former generation\n",
    "    nfit = [(fit, ind) for ind, fit in enumerate(adjustedFitness)]\n",
    "    nfit.sort(reverse=True)\n",
    "    pgenomes = []\n",
    "    genfit = []\n",
    "    champions = []\n",
    "    for specie, number in proportion.items():\n",
    "        numtemp = int(mwoc*number) + 1 # keep mwoc number of parents \n",
    "        index = 0\n",
    "        first = True\n",
    "        while numtemp != 0:\n",
    "            if index == len(nfit):\n",
    "                break\n",
    "            if genomes[nfit[index][1]]['specie'] == specie:\n",
    "                pgenomes.append(genomes[nfit[index][1]])\n",
    "                genfit.append(nfit[index][0])\n",
    "                if first: # chamions per specie do not have mutations\n",
    "                    champions.append(len(pgenomes)-1)\n",
    "                first = False\n",
    "                numtemp -= 1\n",
    "            index += 1\n",
    "    # Create offsprings with genomes kept\n",
    "    ngenomes = list(pgenomes)\n",
    "    for specie, number in proportion.items():\n",
    "        while sum([1 if ngenome['specie'] == specie else 0 for ngenome in ngenomes]) != number:\n",
    "            pgenomestemp = [pgenome for pgenome in pgenomes if pgenome['specie'] == specie]\n",
    "            genome_i = random.choice([(pgenome, genfit[ind]) for ind, pgenome in enumerate(pgenomestemp)])\n",
    "            if len(pgenomestemp) == 1:\n",
    "                genome_j = genome_i\n",
    "            else:\n",
    "                genome_j = random.choice([(pgenome, genfit[ind]) for ind, pgenome in enumerate(pgenomestemp) if pgenome != genome_i[0]])\n",
    "            new_genome = {'specie': specie}\n",
    "            if genome_i[1] < genome_j[1]:\n",
    "                gentemp = genome_i\n",
    "                genome_i = genome_j\n",
    "                genome_j = gentemp\n",
    "            new_genome['nodes'] = genome_i[0]['nodes']\n",
    "            genes = []\n",
    "            for gene_i in genome_i[0]['genes']:\n",
    "                if gene_i[4] not in [gene[4] for gene in genome_j[0]['genes']]:\n",
    "                    genes.append(gene_i)\n",
    "                else:\n",
    "                    for gene_j in genome_j[0]['genes']:\n",
    "                        if gene_i[4] == gene_j[4]:\n",
    "                            genetemp = list(gene_i)\n",
    "                            randgene = random.random()\n",
    "                            genetemp[2] = gene_i[2] if random.random() <= 0.5 else gene_j[2]\n",
    "                            if gene_i[3] == 'disabled' or gene_j[3] == 'disabled':\n",
    "                                genetemp[3] = 'disabled' if random.random() <= ing else 'enabled'\n",
    "                            genes.append(tuple(genetemp))\n",
    "                            break\n",
    "            new_genome['genes'] = genes\n",
    "            ngenomes.append(new_genome)\n",
    "    \n",
    "    return ngenomes, champions"
   ]
  },
  {
   "cell_type": "code",
   "execution_count": 58,
   "metadata": {
    "scrolled": true
   },
   "outputs": [
    {
     "ename": "IndexError",
     "evalue": "list index out of range",
     "output_type": "error",
     "traceback": [
      "\u001b[1;31m---------------------------------------------------------------------------\u001b[0m",
      "\u001b[1;31mIndexError\u001b[0m                                Traceback (most recent call last)",
      "\u001b[1;32m<ipython-input-58-5c3d4154f1d6>\u001b[0m in \u001b[0;36m<module>\u001b[1;34m\u001b[0m\n\u001b[1;32m----> 1\u001b[1;33m \u001b[0mngenomes\u001b[0m\u001b[1;33m,\u001b[0m \u001b[0mchampions\u001b[0m \u001b[1;33m=\u001b[0m \u001b[0mmateNEAT\u001b[0m\u001b[1;33m(\u001b[0m\u001b[0mtemp\u001b[0m\u001b[1;33m,\u001b[0m \u001b[0madjustedFitness\u001b[0m\u001b[1;33m,\u001b[0m \u001b[1;33m[\u001b[0m\u001b[1;33m]\u001b[0m\u001b[1;33m,\u001b[0m \u001b[0ming\u001b[0m\u001b[1;33m,\u001b[0m \u001b[0mmwoc\u001b[0m\u001b[1;33m)\u001b[0m\u001b[1;33m\u001b[0m\u001b[1;33m\u001b[0m\u001b[0m\n\u001b[0m\u001b[0;32m      2\u001b[0m \u001b[0mprint\u001b[0m\u001b[1;33m(\u001b[0m\u001b[0mngenomes\u001b[0m\u001b[1;33m[\u001b[0m\u001b[1;33m-\u001b[0m\u001b[1;36m1\u001b[0m\u001b[1;33m]\u001b[0m\u001b[1;33m)\u001b[0m\u001b[1;33m\u001b[0m\u001b[1;33m\u001b[0m\u001b[0m\n\u001b[0;32m      3\u001b[0m \u001b[0mprint\u001b[0m\u001b[1;33m(\u001b[0m\u001b[0mchampions\u001b[0m\u001b[1;33m)\u001b[0m\u001b[1;33m\u001b[0m\u001b[1;33m\u001b[0m\u001b[0m\n\u001b[0;32m      4\u001b[0m \u001b[0mprint\u001b[0m\u001b[1;33m(\u001b[0m\u001b[0mlen\u001b[0m\u001b[1;33m(\u001b[0m\u001b[0mngenomes\u001b[0m\u001b[1;33m)\u001b[0m\u001b[1;33m)\u001b[0m\u001b[1;33m\u001b[0m\u001b[1;33m\u001b[0m\u001b[0m\n",
      "\u001b[1;32m<ipython-input-57-f8e39260a33a>\u001b[0m in \u001b[0;36mmateNEAT\u001b[1;34m(genomes, adjustedFitness, kill_species, ing, mwoc)\u001b[0m\n\u001b[0;32m      3\u001b[0m     \u001b[1;31m# Computing proportion per specie to keep\u001b[0m\u001b[1;33m\u001b[0m\u001b[1;33m\u001b[0m\u001b[1;33m\u001b[0m\u001b[0m\n\u001b[0;32m      4\u001b[0m     \u001b[0mproportion\u001b[0m \u001b[1;33m=\u001b[0m \u001b[1;33m{\u001b[0m\u001b[1;33m}\u001b[0m\u001b[1;33m\u001b[0m\u001b[1;33m\u001b[0m\u001b[0m\n\u001b[1;32m----> 5\u001b[1;33m     \u001b[0msumfit\u001b[0m \u001b[1;33m=\u001b[0m \u001b[0msum\u001b[0m\u001b[1;33m(\u001b[0m\u001b[1;33m[\u001b[0m\u001b[0madjustedFitness\u001b[0m\u001b[1;33m[\u001b[0m\u001b[0mind\u001b[0m\u001b[1;33m]\u001b[0m \u001b[1;32mfor\u001b[0m \u001b[0mind\u001b[0m\u001b[1;33m,\u001b[0m \u001b[0mgenome\u001b[0m \u001b[1;32min\u001b[0m \u001b[0menumerate\u001b[0m\u001b[1;33m(\u001b[0m\u001b[0mgenomes\u001b[0m\u001b[1;33m)\u001b[0m \u001b[1;32mif\u001b[0m \u001b[0mgenome\u001b[0m\u001b[1;33m[\u001b[0m\u001b[1;34m'specie'\u001b[0m\u001b[1;33m]\u001b[0m \u001b[1;32mnot\u001b[0m \u001b[1;32min\u001b[0m \u001b[0mkill_species\u001b[0m\u001b[1;33m]\u001b[0m\u001b[1;33m)\u001b[0m\u001b[1;33m\u001b[0m\u001b[1;33m\u001b[0m\u001b[0m\n\u001b[0m\u001b[0;32m      6\u001b[0m     \u001b[1;32mfor\u001b[0m \u001b[0mindex\u001b[0m\u001b[1;33m,\u001b[0m \u001b[0mgenome\u001b[0m \u001b[1;32min\u001b[0m \u001b[0menumerate\u001b[0m\u001b[1;33m(\u001b[0m\u001b[0mgenomes\u001b[0m\u001b[1;33m)\u001b[0m\u001b[1;33m:\u001b[0m\u001b[1;33m\u001b[0m\u001b[1;33m\u001b[0m\u001b[0m\n\u001b[0;32m      7\u001b[0m         \u001b[1;32mif\u001b[0m \u001b[0mgenome\u001b[0m\u001b[1;33m[\u001b[0m\u001b[1;34m'specie'\u001b[0m\u001b[1;33m]\u001b[0m \u001b[1;32mnot\u001b[0m \u001b[1;32min\u001b[0m \u001b[0mkill_species\u001b[0m\u001b[1;33m:\u001b[0m \u001b[1;31m# kill species to kill\u001b[0m\u001b[1;33m\u001b[0m\u001b[1;33m\u001b[0m\u001b[0m\n",
      "\u001b[1;32m<ipython-input-57-f8e39260a33a>\u001b[0m in \u001b[0;36m<listcomp>\u001b[1;34m(.0)\u001b[0m\n\u001b[0;32m      3\u001b[0m     \u001b[1;31m# Computing proportion per specie to keep\u001b[0m\u001b[1;33m\u001b[0m\u001b[1;33m\u001b[0m\u001b[1;33m\u001b[0m\u001b[0m\n\u001b[0;32m      4\u001b[0m     \u001b[0mproportion\u001b[0m \u001b[1;33m=\u001b[0m \u001b[1;33m{\u001b[0m\u001b[1;33m}\u001b[0m\u001b[1;33m\u001b[0m\u001b[1;33m\u001b[0m\u001b[0m\n\u001b[1;32m----> 5\u001b[1;33m     \u001b[0msumfit\u001b[0m \u001b[1;33m=\u001b[0m \u001b[0msum\u001b[0m\u001b[1;33m(\u001b[0m\u001b[1;33m[\u001b[0m\u001b[0madjustedFitness\u001b[0m\u001b[1;33m[\u001b[0m\u001b[0mind\u001b[0m\u001b[1;33m]\u001b[0m \u001b[1;32mfor\u001b[0m \u001b[0mind\u001b[0m\u001b[1;33m,\u001b[0m \u001b[0mgenome\u001b[0m \u001b[1;32min\u001b[0m \u001b[0menumerate\u001b[0m\u001b[1;33m(\u001b[0m\u001b[0mgenomes\u001b[0m\u001b[1;33m)\u001b[0m \u001b[1;32mif\u001b[0m \u001b[0mgenome\u001b[0m\u001b[1;33m[\u001b[0m\u001b[1;34m'specie'\u001b[0m\u001b[1;33m]\u001b[0m \u001b[1;32mnot\u001b[0m \u001b[1;32min\u001b[0m \u001b[0mkill_species\u001b[0m\u001b[1;33m]\u001b[0m\u001b[1;33m)\u001b[0m\u001b[1;33m\u001b[0m\u001b[1;33m\u001b[0m\u001b[0m\n\u001b[0m\u001b[0;32m      6\u001b[0m     \u001b[1;32mfor\u001b[0m \u001b[0mindex\u001b[0m\u001b[1;33m,\u001b[0m \u001b[0mgenome\u001b[0m \u001b[1;32min\u001b[0m \u001b[0menumerate\u001b[0m\u001b[1;33m(\u001b[0m\u001b[0mgenomes\u001b[0m\u001b[1;33m)\u001b[0m\u001b[1;33m:\u001b[0m\u001b[1;33m\u001b[0m\u001b[1;33m\u001b[0m\u001b[0m\n\u001b[0;32m      7\u001b[0m         \u001b[1;32mif\u001b[0m \u001b[0mgenome\u001b[0m\u001b[1;33m[\u001b[0m\u001b[1;34m'specie'\u001b[0m\u001b[1;33m]\u001b[0m \u001b[1;32mnot\u001b[0m \u001b[1;32min\u001b[0m \u001b[0mkill_species\u001b[0m\u001b[1;33m:\u001b[0m \u001b[1;31m# kill species to kill\u001b[0m\u001b[1;33m\u001b[0m\u001b[1;33m\u001b[0m\u001b[0m\n",
      "\u001b[1;31mIndexError\u001b[0m: list index out of range"
     ]
    }
   ],
   "source": [
    "ngenomes, champions = mateNEAT(temp, adjustedFitness, [], ing, mwoc)\n",
    "print(ngenomes[-1])\n",
    "print(champions)\n",
    "print(len(ngenomes))"
   ]
  },
  {
   "cell_type": "code",
   "execution_count": 15,
   "metadata": {},
   "outputs": [],
   "source": [
    "def mutateNEAT(genomes, champions, inovdict, nodedict, mutw, mutwuni, addlink_min, addlink_max, addnode, shifts):\n",
    "    '''Function that applie mutations to genomes based on parameters. Champions are not mutated'''\n",
    "    for index, genome in enumerate(genomes):\n",
    "        if index not in champions:\n",
    "            # Mutate genes\n",
    "            if random.random() < mutw:\n",
    "                for ind, gene in enumerate(genome['genes']):\n",
    "                    if random.random() < mutwuni:\n",
    "                        new_weight = gene[2] * (random.random()*(shifts[1]-shifts[0]) + shifts[0])\n",
    "                    else:\n",
    "                        new_weight = random.random()*(shifts[1]-shifts[0]) + shifts[0]\n",
    "                    genome['genes'][ind] = (gene[0], gene[1], new_weight, gene[3], gene[4])\n",
    "            # Add potential link\n",
    "            len_species = sum([1 for gen in genomes if gen['specie'] == genome['specie']])\n",
    "            addlink = addlink_min if len_species < 20 else addlink_max\n",
    "            if random.random() < addlink:\n",
    "                # Build connection list\n",
    "                connect = []\n",
    "                for gene in genome['genes']:\n",
    "                    connect.append((gene[0], gene[1]))\n",
    "                    connect.append((gene[1], gene[0])) # we don't want connections going backwards\n",
    "                # Find new connection\n",
    "                iteration = 0\n",
    "                pot_link = (connect[0][0], connect[0][1])\n",
    "                while pot_link in connect and iteration < 99:\n",
    "                    node_i = random.choice([node[0] for node in genome['nodes'] if node[1] != 'output'])\n",
    "                    node_j = random.choice([node[0] for node in genome['nodes'] if node[1] not in ['sensor', 'bias'] and node[0] != node_i])\n",
    "                    pot_link = (node_i, node_j)\n",
    "                    iteration += 1\n",
    "                # Add new connection\n",
    "                if iteration < 99:\n",
    "                    new_weight = random.random()*(shifts[1]-shifts[0]) + shifts[0]\n",
    "                    if pot_link in inovdict:\n",
    "                        inovnum = inovdict[pot_link]\n",
    "                    else:\n",
    "                        inovnum = max(inovdict.values()) + 1\n",
    "                        inovdict[pot_link] = inovnum\n",
    "                    genome['genes'].append((node_i, node_j, new_weight, 'enabled', inovnum))\n",
    "            # Add potential node\n",
    "            if random.random() < addnode:\n",
    "                # Find gene\n",
    "                genetemp = random.choice([(gene, ind) for ind, gene in enumerate(genome['genes']) if gene[3] != 'disabled'])\n",
    "                # Disable old gene\n",
    "                genometemp = genome['genes'][genetemp[1]]\n",
    "                genome['genes'][genetemp[1]] = (genometemp[0], genometemp[1], genometemp[2], 'disabled', genometemp[4])\n",
    "                # Add node by checking nodedict\n",
    "                if (genetemp[0][0], genetemp[0][1]) in nodedict:\n",
    "                    nodenum = nodedict[(genetemp[0][0], genetemp[0][1])]\n",
    "                else:\n",
    "                    nodedict['maxnode'] += 1\n",
    "                    nodenum = nodedict['maxnode']\n",
    "                    nodedict[(genetemp[0][0], genetemp[0][1])] = nodenum\n",
    "                # Build first gene with right inovation number\n",
    "                if (genetemp[0][0], nodenum) in inovdict:\n",
    "                    first_inovnum = inovdict[(genetemp[0][0], nodenum)]\n",
    "                else:\n",
    "                    first_inovnum = max(inovdict.values()) + 1\n",
    "                    inovdict[(genetemp[0][0], nodenum)] = first_inovnum\n",
    "                first_gene = (genetemp[0][0], nodenum, 1, 'enabled', first_inovnum)\n",
    "                # Build second gene with right inovation number\n",
    "                if (nodenum, genetemp[0][1]) in inovdict:\n",
    "                    second_inovnum = inovdict[(nodenum, genetemp[0][1])]\n",
    "                else:\n",
    "                    second_inovnum = max(inovdict.values()) + 1\n",
    "                    inovdict[(nodenum, genetemp[0][1])] = second_inovnum\n",
    "                new_weight = random.random()*(shifts[1]-shifts[0]) + shifts[0]\n",
    "                second_gene = (nodenum, genetemp[0][1], new_weight, 'enabled', second_inovnum)\n",
    "                # Add new information\n",
    "                genome['nodes'].append((nodenum, 'hidden'))\n",
    "                genome['genes'].append(first_gene)\n",
    "                genome['genes'].append(second_gene)\n",
    "                \n",
    "    return genomes, inovdict, nodedict"
   ]
  },
  {
   "cell_type": "code",
   "execution_count": 16,
   "metadata": {},
   "outputs": [
    {
     "name": "stdout",
     "output_type": "stream",
     "text": [
      "[{'specie': 0, 'nodes': [(0, 'sensor'), (1, 'sensor'), (2, 'bias'), (3, 'output')], 'genes': [(0, 3, 0.17476199360057132, 'enabled', 0), (1, 3, 0.9398549609894191, 'enabled', 1), (2, 3, 0.9185865231804922, 'enabled', 2)]}]\n",
      "{(0, 3): 0, (1, 3): 1, (2, 3): 2}\n",
      "{'maxnode': 3}\n",
      "[{'specie': 0, 'nodes': [(0, 'sensor'), (1, 'sensor'), (2, 'bias'), (3, 'output'), (4, 'hidden'), (5, 'hidden')], 'genes': [(0, 3, 0.0006587084327291703, 'disabled', 0), (1, 3, 0.1157790863569283, 'disabled', 1), (2, 3, 0.9153974164610803, 'enabled', 2), (0, 4, 0.495121821536466, 'enabled', 3), (4, 3, 1.4169866682366619, 'enabled', 4), (2, 4, -1.8789418491392458, 'enabled', 5), (1, 5, -0.2290728753675442, 'enabled', 6), (5, 3, -1.332458310448919, 'enabled', 7)]}]\n",
      "{(0, 3): 0, (1, 3): 1, (2, 3): 2, (0, 4): 3, (4, 3): 4, (2, 4): 5, (1, 5): 6, (5, 3): 7}\n",
      "{'maxnode': 5, (0, 3): 4, (1, 3): 5}\n"
     ]
    }
   ],
   "source": [
    "genomes, inovdict, nodedict = initNEAT(2, 1, 1)\n",
    "print(genomes)\n",
    "print(inovdict)\n",
    "print(nodedict)\n",
    "champions = []\n",
    "for i in range(100):\n",
    "    genomes, inovdict, nodedict = mutateNEAT(genomes, champions, inovdict, nodedict, mutw, mutwuni, addlink_min, addlink_max, addnode, shifts)\n",
    "print(genomes)\n",
    "print(inovdict)\n",
    "print(nodedict)"
   ]
  },
  {
   "cell_type": "code",
   "execution_count": 17,
   "metadata": {},
   "outputs": [
    {
     "name": "stdout",
     "output_type": "stream",
     "text": [
      "deque([5, 6, 7, 8, 9, 10, 11, 12, 13, 14, 15, 16, 17, 18, 19], maxlen=15)\n",
      "[1, 2]\n",
      "[1, 2, 3, 2, 2]\n",
      "[1, 2, 3, 4]\n",
      "[1, 2, 5]\n",
      "6\n",
      "[]\n"
     ]
    }
   ],
   "source": [
    "from collections import deque\n",
    "g = deque(maxlen=15)\n",
    "for i in range(20):\n",
    "    g.append(i)\n",
    "print(g)\n",
    "print([1]+[2])\n",
    "t = [1, 2, 3, 2, 2, 4]\n",
    "print(t[:-1])\n",
    "print(list(set(t)))\n",
    "t = {1:2, 2:3, 5:6}\n",
    "print([ti for ti in t])\n",
    "print(max(t.values()))\n",
    "print(champions)"
   ]
  },
  {
   "cell_type": "code",
   "execution_count": 81,
   "metadata": {},
   "outputs": [
    {
     "name": "stdout",
     "output_type": "stream",
     "text": [
      "16.46 {0: 250}\n",
      "24.036 {0: 249, 1: 1}\n"
     ]
    },
    {
     "ename": "KeyboardInterrupt",
     "evalue": "",
     "output_type": "error",
     "traceback": [
      "\u001b[1;31m---------------------------------------------------------------------------\u001b[0m",
      "\u001b[1;31mKeyboardInterrupt\u001b[0m                         Traceback (most recent call last)",
      "\u001b[1;32m<ipython-input-81-4dfa1ae6a8e4>\u001b[0m in \u001b[0;36m<module>\u001b[1;34m\u001b[0m\n\u001b[0;32m     18\u001b[0m         \u001b[0mstate\u001b[0m \u001b[1;33m=\u001b[0m \u001b[0menv\u001b[0m\u001b[1;33m.\u001b[0m\u001b[0mreset\u001b[0m\u001b[1;33m(\u001b[0m\u001b[1;33m)\u001b[0m\u001b[1;33m\u001b[0m\u001b[1;33m\u001b[0m\u001b[0m\n\u001b[0;32m     19\u001b[0m         \u001b[1;32mfor\u001b[0m \u001b[0mtime\u001b[0m \u001b[1;32min\u001b[0m \u001b[0mrange\u001b[0m\u001b[1;33m(\u001b[0m\u001b[1;36m500\u001b[0m\u001b[1;33m)\u001b[0m\u001b[1;33m:\u001b[0m\u001b[1;33m\u001b[0m\u001b[1;33m\u001b[0m\u001b[0m\n\u001b[1;32m---> 20\u001b[1;33m             \u001b[0moutvect\u001b[0m \u001b[1;33m=\u001b[0m \u001b[0mforwardNEAT\u001b[0m\u001b[1;33m(\u001b[0m\u001b[1;33m[\u001b[0m\u001b[0mgenome\u001b[0m\u001b[1;33m]\u001b[0m\u001b[1;33m,\u001b[0m \u001b[0mstate\u001b[0m\u001b[1;33m)\u001b[0m \u001b[1;31m# SOMETIMES STICKS IN INFINITE LOOP\u001b[0m\u001b[1;33m\u001b[0m\u001b[1;33m\u001b[0m\u001b[0m\n\u001b[0m\u001b[0;32m     21\u001b[0m             \u001b[1;31m# CHECK forwardNEAT AND mutateNEAT WHICH SHOULD BE THE PROBLEM\u001b[0m\u001b[1;33m\u001b[0m\u001b[1;33m\u001b[0m\u001b[1;33m\u001b[0m\u001b[0m\n\u001b[0;32m     22\u001b[0m             \u001b[0maction\u001b[0m \u001b[1;33m=\u001b[0m \u001b[1;36m0\u001b[0m \u001b[1;32mif\u001b[0m \u001b[0moutvect\u001b[0m\u001b[1;33m[\u001b[0m\u001b[1;36m0\u001b[0m\u001b[1;33m]\u001b[0m\u001b[1;33m[\u001b[0m\u001b[1;36m0\u001b[0m\u001b[1;33m]\u001b[0m \u001b[1;33m>=\u001b[0m \u001b[0moutvect\u001b[0m\u001b[1;33m[\u001b[0m\u001b[1;36m0\u001b[0m\u001b[1;33m]\u001b[0m\u001b[1;33m[\u001b[0m\u001b[1;36m1\u001b[0m\u001b[1;33m]\u001b[0m \u001b[1;32melse\u001b[0m \u001b[1;36m1\u001b[0m\u001b[1;33m\u001b[0m\u001b[1;33m\u001b[0m\u001b[0m\n",
      "\u001b[1;32m<ipython-input-46-03370bc5820b>\u001b[0m in \u001b[0;36mforwardNEAT\u001b[1;34m(genomes, invect)\u001b[0m\n\u001b[0;32m     32\u001b[0m                             \u001b[0mindict\u001b[0m\u001b[1;33m[\u001b[0m\u001b[0mnode\u001b[0m\u001b[1;33m]\u001b[0m \u001b[1;33m=\u001b[0m \u001b[0msig\u001b[0m\u001b[1;33m(\u001b[0m\u001b[0msum\u001b[0m\u001b[1;33m(\u001b[0m\u001b[1;33m[\u001b[0m\u001b[0minfo\u001b[0m\u001b[1;33m[\u001b[0m\u001b[1;36m1\u001b[0m\u001b[1;33m]\u001b[0m\u001b[1;33m*\u001b[0m\u001b[0mindict\u001b[0m\u001b[1;33m[\u001b[0m\u001b[0minfo\u001b[0m\u001b[1;33m[\u001b[0m\u001b[1;36m0\u001b[0m\u001b[1;33m]\u001b[0m\u001b[1;33m]\u001b[0m \u001b[1;32mfor\u001b[0m \u001b[0minfo\u001b[0m \u001b[1;32min\u001b[0m \u001b[0minfos\u001b[0m\u001b[1;33m]\u001b[0m\u001b[1;33m)\u001b[0m\u001b[1;33m)\u001b[0m\u001b[1;33m\u001b[0m\u001b[1;33m\u001b[0m\u001b[0m\n\u001b[0;32m     33\u001b[0m                         \u001b[1;32melse\u001b[0m\u001b[1;33m:\u001b[0m\u001b[1;33m\u001b[0m\u001b[1;33m\u001b[0m\u001b[0m\n\u001b[1;32m---> 34\u001b[1;33m                             \u001b[0mindict\u001b[0m\u001b[1;33m[\u001b[0m\u001b[0mnode\u001b[0m\u001b[1;33m]\u001b[0m \u001b[1;33m=\u001b[0m \u001b[0msum\u001b[0m\u001b[1;33m(\u001b[0m\u001b[1;33m[\u001b[0m\u001b[0minfo\u001b[0m\u001b[1;33m[\u001b[0m\u001b[1;36m1\u001b[0m\u001b[1;33m]\u001b[0m\u001b[1;33m*\u001b[0m\u001b[0mindict\u001b[0m\u001b[1;33m[\u001b[0m\u001b[0minfo\u001b[0m\u001b[1;33m[\u001b[0m\u001b[1;36m0\u001b[0m\u001b[1;33m]\u001b[0m\u001b[1;33m]\u001b[0m \u001b[1;32mfor\u001b[0m \u001b[0minfo\u001b[0m \u001b[1;32min\u001b[0m \u001b[0minfos\u001b[0m\u001b[1;33m]\u001b[0m\u001b[1;33m)\u001b[0m\u001b[1;33m\u001b[0m\u001b[1;33m\u001b[0m\u001b[0m\n\u001b[0m\u001b[0;32m     35\u001b[0m         \u001b[1;31m# Determining output(s)\u001b[0m\u001b[1;33m\u001b[0m\u001b[1;33m\u001b[0m\u001b[1;33m\u001b[0m\u001b[0m\n\u001b[0;32m     36\u001b[0m         \u001b[0moutvect\u001b[0m\u001b[1;33m.\u001b[0m\u001b[0mappend\u001b[0m\u001b[1;33m(\u001b[0m\u001b[1;33m[\u001b[0m\u001b[0mindict\u001b[0m\u001b[1;33m[\u001b[0m\u001b[0moutemp\u001b[0m\u001b[1;33m]\u001b[0m \u001b[1;32mfor\u001b[0m \u001b[0moutemp\u001b[0m \u001b[1;32min\u001b[0m \u001b[0msorted\u001b[0m\u001b[1;33m(\u001b[0m\u001b[0moutemps\u001b[0m\u001b[1;33m)\u001b[0m\u001b[1;33m]\u001b[0m\u001b[1;33m)\u001b[0m\u001b[1;33m\u001b[0m\u001b[1;33m\u001b[0m\u001b[0m\n",
      "\u001b[1;32m<ipython-input-46-03370bc5820b>\u001b[0m in \u001b[0;36m<listcomp>\u001b[1;34m(.0)\u001b[0m\n\u001b[0;32m     32\u001b[0m                             \u001b[0mindict\u001b[0m\u001b[1;33m[\u001b[0m\u001b[0mnode\u001b[0m\u001b[1;33m]\u001b[0m \u001b[1;33m=\u001b[0m \u001b[0msig\u001b[0m\u001b[1;33m(\u001b[0m\u001b[0msum\u001b[0m\u001b[1;33m(\u001b[0m\u001b[1;33m[\u001b[0m\u001b[0minfo\u001b[0m\u001b[1;33m[\u001b[0m\u001b[1;36m1\u001b[0m\u001b[1;33m]\u001b[0m\u001b[1;33m*\u001b[0m\u001b[0mindict\u001b[0m\u001b[1;33m[\u001b[0m\u001b[0minfo\u001b[0m\u001b[1;33m[\u001b[0m\u001b[1;36m0\u001b[0m\u001b[1;33m]\u001b[0m\u001b[1;33m]\u001b[0m \u001b[1;32mfor\u001b[0m \u001b[0minfo\u001b[0m \u001b[1;32min\u001b[0m \u001b[0minfos\u001b[0m\u001b[1;33m]\u001b[0m\u001b[1;33m)\u001b[0m\u001b[1;33m)\u001b[0m\u001b[1;33m\u001b[0m\u001b[1;33m\u001b[0m\u001b[0m\n\u001b[0;32m     33\u001b[0m                         \u001b[1;32melse\u001b[0m\u001b[1;33m:\u001b[0m\u001b[1;33m\u001b[0m\u001b[1;33m\u001b[0m\u001b[0m\n\u001b[1;32m---> 34\u001b[1;33m                             \u001b[0mindict\u001b[0m\u001b[1;33m[\u001b[0m\u001b[0mnode\u001b[0m\u001b[1;33m]\u001b[0m \u001b[1;33m=\u001b[0m \u001b[0msum\u001b[0m\u001b[1;33m(\u001b[0m\u001b[1;33m[\u001b[0m\u001b[0minfo\u001b[0m\u001b[1;33m[\u001b[0m\u001b[1;36m1\u001b[0m\u001b[1;33m]\u001b[0m\u001b[1;33m*\u001b[0m\u001b[0mindict\u001b[0m\u001b[1;33m[\u001b[0m\u001b[0minfo\u001b[0m\u001b[1;33m[\u001b[0m\u001b[1;36m0\u001b[0m\u001b[1;33m]\u001b[0m\u001b[1;33m]\u001b[0m \u001b[1;32mfor\u001b[0m \u001b[0minfo\u001b[0m \u001b[1;32min\u001b[0m \u001b[0minfos\u001b[0m\u001b[1;33m]\u001b[0m\u001b[1;33m)\u001b[0m\u001b[1;33m\u001b[0m\u001b[1;33m\u001b[0m\u001b[0m\n\u001b[0m\u001b[0;32m     35\u001b[0m         \u001b[1;31m# Determining output(s)\u001b[0m\u001b[1;33m\u001b[0m\u001b[1;33m\u001b[0m\u001b[1;33m\u001b[0m\u001b[0m\n\u001b[0;32m     36\u001b[0m         \u001b[0moutvect\u001b[0m\u001b[1;33m.\u001b[0m\u001b[0mappend\u001b[0m\u001b[1;33m(\u001b[0m\u001b[1;33m[\u001b[0m\u001b[0mindict\u001b[0m\u001b[1;33m[\u001b[0m\u001b[0moutemp\u001b[0m\u001b[1;33m]\u001b[0m \u001b[1;32mfor\u001b[0m \u001b[0moutemp\u001b[0m \u001b[1;32min\u001b[0m \u001b[0msorted\u001b[0m\u001b[1;33m(\u001b[0m\u001b[0moutemps\u001b[0m\u001b[1;33m)\u001b[0m\u001b[1;33m]\u001b[0m\u001b[1;33m)\u001b[0m\u001b[1;33m\u001b[0m\u001b[1;33m\u001b[0m\u001b[0m\n",
      "\u001b[1;31mKeyboardInterrupt\u001b[0m: "
     ]
    }
   ],
   "source": [
    "# Testing algorithm on cartpole\n",
    "import gym\n",
    "env = gym.make('CartPole-v1')\n",
    "state_size = env.observation_space.shape[0]\n",
    "action_size = env.action_space.n\n",
    "nets = 250\n",
    "EPISODES = 500\n",
    "# Initiate networks\n",
    "genomes, inovdict, nodedict = initNEAT(state_size, action_size, nets)\n",
    "\n",
    "histfit = []\n",
    "fitdeque = deque(maxlen=15)\n",
    "for e in range(EPISODES):\n",
    "    # Compute fitness for all networks\n",
    "    fits = []\n",
    "    for genome in genomes:\n",
    "        fit = 0\n",
    "        state = env.reset()\n",
    "        for time in range(500):\n",
    "            outvect = forwardNEAT([genome], state) # SOMETIMES STICKS IN INFINITE LOOP\n",
    "            # CHECK forwardNEAT AND mutateNEAT WHICH SHOULD BE THE PROBLEM\n",
    "            action = 0 if outvect[0][0] >= outvect[0][1] else 1\n",
    "            state, reward, done, _ = env.step(action)\n",
    "            fit += reward\n",
    "            if done:\n",
    "                break\n",
    "        fits.append(fit)\n",
    "    histfit.append(sum(fits)/len(fits))\n",
    "    # Deal with fitness and mate\n",
    "    adjustedFitness = adjustedFitNEAT(genomes, fits, deltat)\n",
    "    kill_species = newfitdequeNEAT(genomes, fits, fitdeque, maxgen)\n",
    "    genomes, champions = mateNEAT(genomes, adjustedFitness, kill_species, ing, mwoc) # CHECK EMPTY SEQUENCE WHICH IS A REDUNDANT PROBLEM\n",
    "    # Mutate networks\n",
    "    genomes, inovdict, nodedict = mutateNEAT(genomes, champions, inovdict, nodedict, mutw, mutwuni, addlink_min, addlink_max, addnode, shifts)\n",
    "    # Speciation of networks\n",
    "    genomes = speciateNEAT(genomes, c1, c2, c3, deltat)\n",
    "    # Print fits and repartition of species\n",
    "    repspecie = {}\n",
    "    for genome in genomes:\n",
    "        if genome['specie'] in repspecie:\n",
    "            repspecie[genome['specie']] += 1\n",
    "        else:\n",
    "            repspecie[genome['specie']] = 1\n",
    "    print(histfit[e], repspecie)"
   ]
  },
  {
   "cell_type": "code",
   "execution_count": 26,
   "metadata": {},
   "outputs": [
    {
     "name": "stdout",
     "output_type": "stream",
     "text": [
      "{'specie': 0, 'nodes': [(0, 'sensor'), (1, 'sensor'), (2, 'sensor'), (3, 'sensor'), (4, 'bias'), (5, 'output'), (6, 'output')], 'genes': [(0, 5, -1.8240907483105122, 'enabled', 0), (0, 6, 0.13637438442103234, 'enabled', 1), (1, 5, 0.3881605167369351, 'enabled', 2), (1, 6, 0.8026506349171982, 'enabled', 3), (2, 5, 0.248134669816082, 'enabled', 4), (2, 6, 1.091346240489877, 'enabled', 5), (3, 5, 0.02360111150673383, 'enabled', 6), (3, 6, 0.5144710515900317, 'enabled', 7), (4, 5, 1.722053068527218, 'enabled', 8), (4, 6, -0.8802080179551348, 'enabled', 9)]}\n"
     ]
    },
    {
     "data": {
      "text/plain": [
       "0"
      ]
     },
     "execution_count": 26,
     "metadata": {},
     "output_type": "execute_result"
    }
   ],
   "source": [
    "print(genomes[0])\n",
    "env.action_space.sample()"
   ]
  },
  {
   "cell_type": "code",
   "execution_count": 41,
   "metadata": {},
   "outputs": [
    {
     "name": "stdout",
     "output_type": "stream",
     "text": [
      "{1: 2, 3: 4, 5: 6}\n"
     ]
    }
   ],
   "source": [
    "i = [{1:2, 3:4, 5:6}]\n",
    "for it in i:\n",
    "    print(it)"
   ]
  },
  {
   "cell_type": "code",
   "execution_count": null,
   "metadata": {},
   "outputs": [],
   "source": []
  }
 ],
 "metadata": {
  "kernelspec": {
   "display_name": "Python 3",
   "language": "python",
   "name": "python3"
  },
  "language_info": {
   "codemirror_mode": {
    "name": "ipython",
    "version": 3
   },
   "file_extension": ".py",
   "mimetype": "text/x-python",
   "name": "python",
   "nbconvert_exporter": "python",
   "pygments_lexer": "ipython3",
   "version": "3.6.8"
  }
 },
 "nbformat": 4,
 "nbformat_minor": 2
}
